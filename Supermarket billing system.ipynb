{
 "cells": [
  {
   "cell_type": "code",
   "execution_count": 1,
   "id": "103f1e8a-b138-42fb-b038-4670cecf5a46",
   "metadata": {},
   "outputs": [
    {
     "name": "stdout",
     "output_type": "stream",
     "text": [
      "Kindly enter your details for personalized bill.\n"
     ]
    },
    {
     "name": "stdin",
     "output_type": "stream",
     "text": [
      "Enter your name here:  Ayushi\n",
      "Enter your phone number here:  9869716172\n",
      "Do you want to preview products? (Yes/No):  yes\n"
     ]
    },
    {
     "name": "stdout",
     "output_type": "stream",
     "text": [
      "\n",
      "PRODUCTS\n",
      "Cheetos         ₹40          \n",
      "Cola            ₹50          \n",
      "Apple           ₹50          \n",
      "Banana          ₹20          \n",
      "Strawberry      ₹30          \n",
      "Oats            ₹100         \n",
      "Peanut butter   ₹350         \n",
      "Cheese          ₹90          \n",
      "Milk            ₹35          \n",
      "Soap            ₹35          \n",
      "Detergent       ₹210         \n",
      "Conditioner     ₹345         \n",
      "\n",
      "Proceed to enter your products you wish to buy.\n"
     ]
    },
    {
     "name": "stdin",
     "output_type": "stream",
     "text": [
      "Enter the item you wish to buy:  Oats\n",
      "Enter the quantity you wish to buy:  4\n"
     ]
    },
    {
     "name": "stdout",
     "output_type": "stream",
     "text": [
      "Current total: ₹400\n",
      "\n"
     ]
    },
    {
     "name": "stdin",
     "output_type": "stream",
     "text": [
      "Do you want to add more items? (Yes/No):  apple\n",
      "Enter the item you wish to buy:  5\n"
     ]
    },
    {
     "name": "stdout",
     "output_type": "stream",
     "text": [
      "* Kindly enter a valid item name *\n"
     ]
    },
    {
     "name": "stdin",
     "output_type": "stream",
     "text": [
      "Enter the item you wish to buy:  milk\n",
      "Enter the quantity you wish to buy:  6\n"
     ]
    },
    {
     "name": "stdout",
     "output_type": "stream",
     "text": [
      "Current total: ₹610\n",
      "\n"
     ]
    },
    {
     "name": "stdin",
     "output_type": "stream",
     "text": [
      "Do you want to add more items? (Yes/No):  peanut butter\n",
      "Enter the item you wish to buy:  2\n"
     ]
    },
    {
     "name": "stdout",
     "output_type": "stream",
     "text": [
      "* Kindly enter a valid item name *\n"
     ]
    },
    {
     "name": "stdin",
     "output_type": "stream",
     "text": [
      "Enter the item you wish to buy:  Cheese\n",
      "Enter the quantity you wish to buy:  1\n"
     ]
    },
    {
     "name": "stdout",
     "output_type": "stream",
     "text": [
      "Current total: ₹700\n",
      "\n"
     ]
    },
    {
     "name": "stdin",
     "output_type": "stream",
     "text": [
      "Do you want to add more items? (Yes/No):  no\n",
      "Kindly enter the payment method (Cash/Card):  cash\n"
     ]
    },
    {
     "name": "stdout",
     "output_type": "stream",
     "text": [
      "\n",
      "****************************************\n",
      "-------- Welcome to Supermarket --------\n",
      "     Ayushi's Supermarket Receipt\n",
      "========================================\n",
      "Customer name: Ayushi\n",
      "Contact number: 9869716172\n",
      "----------------------------------------\n",
      "Item Name       Price       Quantity  Total       \n",
      "----------------------------------------\n",
      "Oats            ₹100        4         ₹400         \n",
      "Milk            ₹35         6         ₹210         \n",
      "Cheese          ₹90         1         ₹90          \n",
      "----------------------------------------\n",
      "Total:                           ₹700\n",
      "No discount applicable                  ₹0.00\n",
      "========================================\n",
      "Payable Amount:                  ₹700.00\n",
      "========================================\n",
      "****************************************\n"
     ]
    },
    {
     "name": "stdin",
     "output_type": "stream",
     "text": [
      "Start entering details for a new customer? (Yes/No):  no\n"
     ]
    }
   ],
   "source": [
    "# Dictionary of menu items from the Supermarket store\n",
    "SM_products = {\n",
    "    \"cheetos\": 40,\n",
    "    \"cola\": 50,\n",
    "    \"apple\": 50,\n",
    "    \"banana\": 20,\n",
    "    \"strawberry\": 30,\n",
    "    \"oats\": 100,\n",
    "    \"peanut butter\": 350,\n",
    "    \"cheese\": 90,\n",
    "    \"milk\": 35,\n",
    "    \"soap\": 35,\n",
    "    \"detergent\": 210,\n",
    "    \"conditioner\": 345\n",
    "}\n",
    "\n",
    "# Main loop to handle multiple customers\n",
    "while True:\n",
    "    # Taking customer's details\n",
    "    print(\"Kindly enter your details for personalized bill.\")\n",
    "    \n",
    "    # Name validation\n",
    "    while True:\n",
    "        name = input(\"Enter your name here: \")\n",
    "        if name.isalpha():\n",
    "            break\n",
    "        else:\n",
    "            print(\"Please enter a valid name (alphabets only).\")\n",
    "    \n",
    "    # Phone number validation\n",
    "    while True:\n",
    "        phone = input(\"Enter your phone number here: \")\n",
    "        if phone.isdigit() and len(phone) == 10:\n",
    "            break\n",
    "        else:\n",
    "            print(\"Please enter a valid 10-digit phone number.\")\n",
    "\n",
    "    # Asking if the customer wants to see the product list\n",
    "    preview = input(\"Do you want to preview products? (Yes/No): \").lower()\n",
    "    if preview == \"yes\":\n",
    "        print(\"\\nPRODUCTS\")\n",
    "        for item, price in SM_products.items():\n",
    "            print(f\"{item.capitalize():<15} ₹{price:<12}\")\n",
    "        print(\"\\nProceed to enter your products you wish to buy.\")\n",
    "    \n",
    "    # Initializing variables\n",
    "    amount = 0\n",
    "    discount = 0\n",
    "    card_discount = 50\n",
    "    cart = {}\n",
    "\n",
    "    # Loop to take product orders\n",
    "    while True:\n",
    "        item = input(\"Enter the item you wish to buy: \").lower()\n",
    "        if item in SM_products:\n",
    "            # Quantity validation\n",
    "            while True:\n",
    "                quantity = input(\"Enter the quantity you wish to buy: \")\n",
    "                if quantity.isdigit() and 1 <= int(quantity) <= 50:\n",
    "                    quantity = int(quantity)\n",
    "                    break\n",
    "                else:\n",
    "                    print(\"Please enter a valid quantity (1-50).\")\n",
    "            \n",
    "            # Adding item to cart\n",
    "            cart[item] = [SM_products[item], quantity]\n",
    "            amount += SM_products[item] * quantity\n",
    "            print(f\"Current total: ₹{amount}\\n\")\n",
    "\n",
    "            # Asking if the customer wants to add more items\n",
    "            repeat = input(\"Do you want to add more items? (Yes/No): \").lower()\n",
    "            if repeat == \"no\":\n",
    "                break\n",
    "        else:\n",
    "            print(\"* Kindly enter a valid item name *\")\n",
    "    \n",
    "    # Applying discounts based on the total amount\n",
    "    if amount >= 1500:\n",
    "        discount = amount * 0.12\n",
    "        rate = \"Discount (12%):\"\n",
    "    elif amount >= 1000:\n",
    "        discount = amount * 0.10\n",
    "        rate = \"Discount (10%):\"\n",
    "    else:\n",
    "        discount = 0\n",
    "        rate = \"No discount applicable\"\n",
    "\n",
    "    # Asking for the payment method\n",
    "    payment_method = input(\"Kindly enter the payment method (Cash/Card): \").lower()\n",
    "    \n",
    "    # Applying card discount if payment is made by card\n",
    "    if payment_method == \"card\":\n",
    "        amount -= card_discount\n",
    "\n",
    "    # Calculating the final payable amount\n",
    "    final_amount = amount - discount\n",
    "\n",
    "    # Printing the receipt\n",
    "    print(\"\\n\" + \"*\" * 40)\n",
    "    print(\"-\" * 8, \"Welcome to Supermarket\", \"-\" * 8)\n",
    "    print(f\"     {name}'s Supermarket Receipt\")\n",
    "    print(\"=\" * 40)\n",
    "    print(f\"Customer name: {name}\")\n",
    "    print(f\"Contact number: {phone}\")\n",
    "    print(\"-\" * 40)\n",
    "    print(\"{:<15} {:<11} {:<9} {:<12}\".format(\"Item Name\", \"Price\", \"Quantity\", \"Total\"))\n",
    "    print(\"-\" * 40)\n",
    "    for item, details in cart.items():\n",
    "        print(\"{:<15} ₹{:<10} {:<9} ₹{:<12}\".format(item.capitalize(), details[0], details[1], details[0] * details[1]))\n",
    "    print(\"-\" * 40)\n",
    "    print(f\"Total: {' ' * 26}₹{amount}\")\n",
    "    if payment_method == \"card\":\n",
    "        print(f\"Card Discount: {' ' * 20}₹{card_discount}\")\n",
    "    print(f\"{rate} {' ' * 17}₹{discount:.2f}\")\n",
    "    print(\"=\" * 40)\n",
    "    print(f\"Payable Amount: {' ' * 17}₹{final_amount:.2f}\")\n",
    "    print(\"=\" * 40)\n",
    "    print(\"*\" * 40)\n",
    "\n",
    "    # Asking if the user wants to enter details for a new customer\n",
    "    next_customer = input(\"Start entering details for a new customer? (Yes/No): \").lower()\n",
    "    if next_customer == \"no\":\n",
    "        break"
   ]
  },
  {
   "cell_type": "code",
   "execution_count": null,
   "id": "88f46fc2-7043-4683-8275-7d1e63672895",
   "metadata": {},
   "outputs": [],
   "source": []
  }
 ],
 "metadata": {
  "kernelspec": {
   "display_name": "Python 3 (ipykernel)",
   "language": "python",
   "name": "python3"
  },
  "language_info": {
   "codemirror_mode": {
    "name": "ipython",
    "version": 3
   },
   "file_extension": ".py",
   "mimetype": "text/x-python",
   "name": "python",
   "nbconvert_exporter": "python",
   "pygments_lexer": "ipython3",
   "version": "3.13.1"
  }
 },
 "nbformat": 4,
 "nbformat_minor": 5
}
